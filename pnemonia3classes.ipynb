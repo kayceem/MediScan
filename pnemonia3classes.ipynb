{
 "cells": [
  {
   "cell_type": "code",
   "execution_count": null,
   "metadata": {},
   "outputs": [],
   "source": [
    "import kagglehub\n",
    "\n",
    "# Download latest version\n",
    "path = kagglehub.dataset_download(\"alifrahman/chestxraydataset\")\n",
    "\n"
   ]
  },
  {
   "cell_type": "code",
   "execution_count": null,
   "metadata": {},
   "outputs": [],
   "source": [
    "for item in os.listdir(path):\n",
    "    source = os.path.join(path, item)\n",
    "    destination = os.path.join(\"datasets\", item)\n",
    "\n",
    "    if os.path.isdir(source):\n",
    "        shutil.move(source, destination)\n",
    "    else:\n",
    "        shutil.move(source, destination)\n",
    "\n",
    "print(\"Dataset moved to current folder.\")"
   ]
  },
  {
   "cell_type": "code",
   "execution_count": null,
   "metadata": {
    "_cell_guid": "b1076dfc-b9ad-4769-8c92-a6c4dae69d19",
    "_uuid": "8f2839f25d086af736a60e9eeb907d3b93b6e0e5",
    "execution": {
     "iopub.execute_input": "2024-07-07T19:21:00.537789Z",
     "iopub.status.busy": "2024-07-07T19:21:00.537428Z",
     "iopub.status.idle": "2024-07-07T19:21:04.509614Z",
     "shell.execute_reply": "2024-07-07T19:21:04.508379Z",
     "shell.execute_reply.started": "2024-07-07T19:21:00.537758Z"
    },
    "trusted": true
   },
   "outputs": [],
   "source": [
    "import numpy as np\n",
    "import pandas as pd\n",
    "import torch\n",
    "import shutil \n",
    "from tqdm import tqdm\n",
    "import os\n",
    "import torchvision\n",
    "import matplotlib.pyplot as plt\n",
    "import seaborn as sns\n",
    "import time\n",
    "import copy\n",
    "import random\n",
    "import subprocess\n",
    "\n",
    "from torchvision import transforms, models"
   ]
  },
  {
   "cell_type": "code",
   "execution_count": null,
   "metadata": {
    "execution": {
     "iopub.execute_input": "2024-07-07T19:22:00.480000Z",
     "iopub.status.busy": "2024-07-07T19:22:00.479328Z",
     "iopub.status.idle": "2024-07-07T19:22:00.485060Z",
     "shell.execute_reply": "2024-07-07T19:22:00.484079Z",
     "shell.execute_reply.started": "2024-07-07T19:22:00.479968Z"
    },
    "trusted": true
   },
   "outputs": [],
   "source": [
    "SEED = 18\n",
    "random.seed(SEED)\n",
    "torch.manual_seed(SEED)\n",
    "torch.backends.cudnn.deterministic = True"
   ]
  },
  {
   "cell_type": "code",
   "execution_count": null,
   "metadata": {
    "execution": {
     "iopub.execute_input": "2024-07-07T19:22:05.692906Z",
     "iopub.status.busy": "2024-07-07T19:22:05.691948Z",
     "iopub.status.idle": "2024-07-07T19:22:05.701788Z",
     "shell.execute_reply": "2024-07-07T19:22:05.700789Z",
     "shell.execute_reply.started": "2024-07-07T19:22:05.692870Z"
    },
    "trusted": true
   },
   "outputs": [],
   "source": [
    "data_root = 'datasets/chest_xray'\n",
    "print(os.listdir(data_root))"
   ]
  },
  {
   "cell_type": "code",
   "execution_count": null,
   "metadata": {
    "execution": {
     "iopub.execute_input": "2024-07-07T19:22:11.432777Z",
     "iopub.status.busy": "2024-07-07T19:22:11.431743Z",
     "iopub.status.idle": "2024-07-07T19:22:44.558951Z",
     "shell.execute_reply": "2024-07-07T19:22:44.557033Z",
     "shell.execute_reply.started": "2024-07-07T19:22:11.432735Z"
    },
    "trusted": true
   },
   "outputs": [],
   "source": [
    "train_dir = 'datasets/pneumonia/train'\n",
    "val_dir = 'datasets/pneumonia/val'\n",
    "each_val_img_ind = 50\n",
    "\n",
    "os.makedirs(train_dir, exist_ok=True)\n",
    "os.makedirs(val_dir, exist_ok=True)\n",
    "\n",
    "class_names = ['NORMAL', 'PNEUMONIA']\n",
    "\n",
    "for dir_name in [train_dir, val_dir]:\n",
    "    for class_name in class_names:\n",
    "        os.makedirs(os.path.join(dir_name, class_name), exist_ok=True)\n",
    "    os.makedirs(os.path.join(dir_name, 'virus'), exist_ok=True)  # Создаем папку virus\n",
    "\n",
    "for class_name in class_names:\n",
    "    source_dir = os.path.join(data_root, 'train', class_name)\n",
    "    for i, file_name in enumerate(tqdm(os.listdir(source_dir))):\n",
    "        if 'virus' in file_name:\n",
    "            if i % each_val_img_ind != 0:\n",
    "                dest_dir = os.path.join(train_dir, 'virus')\n",
    "            else:\n",
    "                dest_dir = os.path.join(val_dir, 'virus')\n",
    "        else:\n",
    "            if i % each_val_img_ind != 0:\n",
    "                dest_dir = os.path.join(train_dir, class_name)\n",
    "            else:\n",
    "                dest_dir = os.path.join(val_dir, class_name)\n",
    "        shutil.copy(os.path.join(source_dir, file_name), os.path.join(dest_dir, file_name))\n",
    "class_names.append('virus')"
   ]
  },
  {
   "cell_type": "code",
   "execution_count": null,
   "metadata": {
    "execution": {
     "iopub.execute_input": "2024-07-07T19:22:45.571070Z",
     "iopub.status.busy": "2024-07-07T19:22:45.570755Z",
     "iopub.status.idle": "2024-07-07T19:22:45.623414Z",
     "shell.execute_reply": "2024-07-07T19:22:45.622579Z",
     "shell.execute_reply.started": "2024-07-07T19:22:45.571040Z"
    },
    "trusted": true
   },
   "outputs": [],
   "source": [
    "train_transforms = [\n",
    "    transforms.Compose([\n",
    "    transforms.Resize((224,224)),   \n",
    "    transforms.CenterCrop(200),\n",
    "    transforms.Resize((224,224)),\n",
    "    transforms.ToTensor(),\n",
    "    transforms.Normalize([0.485, 0.456, 0.406], [0.229, 0.224, 0.225])]),\n",
    "    transforms.Compose([\n",
    "        transforms.Resize((224,224)),\n",
    "        transforms.RandomAffine(degrees=30, translate=(0.1, 0.1), scale=(0.8, 1.2)),\n",
    "        transforms.CenterCrop(200),\n",
    "        transforms.Resize((224,224)),\n",
    "        transforms.ToTensor(),\n",
    "        transforms.Normalize([0.485, 0.456, 0.406], [0.229, 0.224, 0.225])\n",
    "    ]),          \n",
    "]\n",
    "\n",
    "val_transforms = [transforms.Compose([\n",
    "    transforms.Resize((224,224)),\n",
    "    transforms.ToTensor(),\n",
    "    transforms.Normalize([0.485, 0.456, 0.406], [0.229, 0.224, 0.225])\n",
    "]),]\n",
    "\n",
    "train_dataset = torch.utils.data.ConcatDataset([torchvision.datasets.ImageFolder(train_dir,train_transform)\n",
    "                                                    for train_transform in val_transforms])\n",
    "\n",
    "val_dataset = torch.utils.data.ConcatDataset([torchvision.datasets.ImageFolder(val_dir,train_transform)\n",
    "                                                    for train_transform in val_transforms])\n",
    "\n",
    "# train_dataset = torchvision.datasets.ImageFolder(train_dir, transforms=val_transforms)\n",
    "# val_dataset = torchvision.datasets.ImageFolder(val_dir, val_transforms)\n",
    "\n",
    "batch_size = 10\n",
    "train_dataloader = torch.utils.data.DataLoader(\n",
    "    train_dataset, batch_size=batch_size, shuffle=True, num_workers=batch_size)\n",
    "val_dataloader = torch.utils.data.DataLoader(\n",
    "    val_dataset, batch_size=batch_size, shuffle=False, num_workers=batch_size)"
   ]
  },
  {
   "cell_type": "code",
   "execution_count": null,
   "metadata": {
    "execution": {
     "iopub.execute_input": "2024-07-07T19:22:58.427021Z",
     "iopub.status.busy": "2024-07-07T19:22:58.426370Z",
     "iopub.status.idle": "2024-07-07T19:22:58.432202Z",
     "shell.execute_reply": "2024-07-07T19:22:58.431182Z",
     "shell.execute_reply.started": "2024-07-07T19:22:58.426987Z"
    },
    "trusted": true
   },
   "outputs": [],
   "source": [
    "print(\"train size : {} val size : {}\".format(len(train_dataloader), len(val_dataloader)))"
   ]
  },
  {
   "cell_type": "code",
   "execution_count": null,
   "metadata": {
    "execution": {
     "iopub.execute_input": "2024-07-07T19:23:02.819773Z",
     "iopub.status.busy": "2024-07-07T19:23:02.819317Z",
     "iopub.status.idle": "2024-07-07T19:23:04.846328Z",
     "shell.execute_reply": "2024-07-07T19:23:04.845179Z",
     "shell.execute_reply.started": "2024-07-07T19:23:02.819743Z"
    },
    "trusted": true
   },
   "outputs": [],
   "source": [
    "X_batch, y_batch = next(iter(train_dataloader))\n",
    "mean = np.array([0.485, 0.456, 0.406])\n",
    "std = np.array([0.229, 0.224, 0.225])\n",
    "plt.imshow(X_batch[0].permute(1, 2, 0).numpy() * std + mean);"
   ]
  },
  {
   "cell_type": "code",
   "execution_count": null,
   "metadata": {
    "execution": {
     "iopub.execute_input": "2024-07-07T19:23:06.942231Z",
     "iopub.status.busy": "2024-07-07T19:23:06.941857Z",
     "iopub.status.idle": "2024-07-07T19:23:11.587630Z",
     "shell.execute_reply": "2024-07-07T19:23:11.586632Z",
     "shell.execute_reply.started": "2024-07-07T19:23:06.942195Z"
    },
    "trusted": true
   },
   "outputs": [],
   "source": [
    "def show_input(input_tensor, title=''):\n",
    "    image = input_tensor.permute(1, 2, 0).numpy()\n",
    "    image = std * image + mean\n",
    "    plt.imshow(image.clip(0, 1))\n",
    "    plt.title(title)\n",
    "    plt.show()\n",
    "    plt.pause(0.001)\n",
    "\n",
    "X_batch, y_batch = next(iter(train_dataloader))\n",
    "\n",
    "for x_item, y_item in zip(X_batch[:2], y_batch[:2]):\n",
    "    show_input(x_item, title=class_names[y_item])"
   ]
  },
  {
   "cell_type": "code",
   "execution_count": null,
   "metadata": {
    "execution": {
     "iopub.execute_input": "2024-07-07T21:11:38.865789Z",
     "iopub.status.busy": "2024-07-07T21:11:38.865408Z",
     "iopub.status.idle": "2024-07-07T21:11:38.873514Z",
     "shell.execute_reply": "2024-07-07T21:11:38.872545Z",
     "shell.execute_reply.started": "2024-07-07T21:11:38.865760Z"
    },
    "trusted": true
   },
   "outputs": [],
   "source": [
    "class CustomNeuralNetResNet(torch.nn.Module):\n",
    "    def __init__(self,outputs_number):\n",
    "        super(CustomNeuralNetResNet, self).__init__()\n",
    "#         self.net = models.resnet18(pretrained=False)\n",
    "        self.net = models.resnet50(pretrained=False)\n",
    "        \n",
    "#         self.net = models.resnet101(pretrained=True)\n",
    "        \n",
    "#         for param in self.net.parameters():\n",
    "#             param.requires_grad = False\n",
    "\n",
    "#         TransferModelOutputs = self.net.fc.in_features\n",
    "#         self.net.fc = torch.nn.Sequential(\n",
    "#             torch.nn.Linear(TransferModelOutputs, outputs_number))\n",
    "#         \n",
    "\n",
    "    def forward(self, x):\n",
    "        return self.net(x)"
   ]
  },
  {
   "cell_type": "code",
   "execution_count": null,
   "metadata": {
    "execution": {
     "iopub.execute_input": "2024-07-07T21:11:41.182269Z",
     "iopub.status.busy": "2024-07-07T21:11:41.181921Z",
     "iopub.status.idle": "2024-07-07T21:11:43.445498Z",
     "shell.execute_reply": "2024-07-07T21:11:43.444682Z",
     "shell.execute_reply.started": "2024-07-07T21:11:41.182240Z"
    },
    "trusted": true
   },
   "outputs": [],
   "source": [
    "model = CustomNeuralNetResNet(3)\n",
    "\n",
    "device = torch.device(\"cuda:0\" if torch.cuda.is_available() else \"cpu\")\n",
    "model = model.to(device)\n",
    "\n",
    "loss = torch.nn.CrossEntropyLoss()\n",
    "# loss = torch.nn.NLLLoss()\n",
    "\n",
    "optimizer = torch.optim.Adam(model.parameters(), lr=1e-3, amsgrad=True) # смотреть предыдущие градиенты для лучшей сходимости\n",
    "# optimizer = torch.optim.SGD(model.parameters(), lr=1e-3, momentum=0.2)\n",
    "\n",
    "\n",
    "# Decay LR by a factor of 0.1 every 7 epochs\n",
    "scheduler = torch.optim.lr_scheduler.StepLR(optimizer, step_size=5, gamma=0.1)"
   ]
  },
  {
   "cell_type": "code",
   "execution_count": null,
   "metadata": {
    "execution": {
     "iopub.execute_input": "2024-07-07T21:11:44.840709Z",
     "iopub.status.busy": "2024-07-07T21:11:44.840328Z",
     "iopub.status.idle": "2024-07-07T21:11:44.853518Z",
     "shell.execute_reply": "2024-07-07T21:11:44.852534Z",
     "shell.execute_reply.started": "2024-07-07T21:11:44.840679Z"
    },
    "trusted": true
   },
   "outputs": [],
   "source": [
    "def train_model(model, loss, optimizer, scheduler, num_epochs):\n",
    "    best_val_loss = float('inf')\n",
    "    best_val_acc = 0\n",
    "    best_model_weights = None\n",
    "    train_loss = torch.zeros(num_epochs)\n",
    "    val_loss = torch.zeros(num_epochs)\n",
    "    train_acc = torch.zeros(num_epochs)\n",
    "    val_acc = torch.zeros(num_epochs)\n",
    "    for epoch in range(num_epochs):\n",
    "        print('Epoch {}/{}:'.format(epoch, num_epochs - 1), flush=True)\n",
    "\n",
    "        for phase in ['train', 'val']:\n",
    "            if phase == 'train':\n",
    "                dataloader = train_dataloader\n",
    "                scheduler.step()\n",
    "                model.train()\n",
    "            else:\n",
    "                dataloader = val_dataloader\n",
    "                model.eval()\n",
    "\n",
    "            running_loss = 0.\n",
    "            running_acc = 0.\n",
    "\n",
    "            for inputs, labels in tqdm(dataloader):\n",
    "                inputs = inputs.to(device)\n",
    "                labels = labels.to(device)\n",
    "                optimizer.zero_grad()\n",
    "\n",
    "                # forward and backward\n",
    "                with torch.set_grad_enabled(phase == 'train'):\n",
    "                    preds = model(inputs)\n",
    "#                     log_probs = torch.nn.functional.log_softmax(preds, dim=1)\n",
    "#                     loss_value = loss(log_probs, labels)\n",
    "                    loss_value = loss(preds, labels)\n",
    "                    preds_class = preds.argmax(dim=1)\n",
    "\n",
    "                    # backward + optimize\n",
    "                    if phase == 'train':\n",
    "                        loss_value.backward()\n",
    "                        optimizer.step()\n",
    "\n",
    "                # statistics\n",
    "                running_loss += loss_value.item()\n",
    "                running_acc += (preds_class == labels.data).float().mean()\n",
    "\n",
    "            epoch_loss = running_loss / len(dataloader)\n",
    "            epoch_acc = running_acc / len(dataloader)\n",
    "            if phase == 'train':\n",
    "                train_loss[epoch] = epoch_loss\n",
    "                train_acc[epoch] = epoch_acc\n",
    "            else:\n",
    "                val_loss[epoch] = epoch_loss\n",
    "                val_acc[epoch] = epoch_acc\n",
    "                if epoch_loss < best_val_loss:\n",
    "                    best_val_loss = epoch_loss\n",
    "                    best_val_acc =  epoch_acc\n",
    "                    best_model_weights = model.state_dict()\n",
    "\n",
    "            print('{} Loss: {:.4f} Acc: {:.4f}'.format(phase, epoch_loss, epoch_acc), flush=True)\n",
    "    if best_model_weights is not None:\n",
    "        model_path = \"saved_models/best_model.pth\"\n",
    "    \n",
    "        torch.save(best_model_weights, model_path)\n",
    "        print('Best model saved with loss:', best_val_loss, best_val_acc)\n",
    "\n",
    "    return train_loss, val_loss, train_acc, val_acc"
   ]
  },
  {
   "cell_type": "code",
   "execution_count": null,
   "metadata": {
    "execution": {
     "iopub.execute_input": "2024-07-07T21:11:47.849445Z",
     "iopub.status.busy": "2024-07-07T21:11:47.849081Z",
     "iopub.status.idle": "2024-07-07T21:19:02.202393Z",
     "shell.execute_reply": "2024-07-07T21:19:02.201159Z",
     "shell.execute_reply.started": "2024-07-07T21:11:47.849414Z"
    },
    "trusted": true
   },
   "outputs": [],
   "source": [
    "train_loss, val_loss, train_acc, val_acc = train_model(model, loss, optimizer, scheduler, num_epochs=10)"
   ]
  },
  {
   "cell_type": "code",
   "execution_count": null,
   "metadata": {
    "execution": {
     "iopub.execute_input": "2024-07-07T20:43:14.521887Z",
     "iopub.status.busy": "2024-07-07T20:43:14.521479Z",
     "iopub.status.idle": "2024-07-07T20:43:14.526933Z",
     "shell.execute_reply": "2024-07-07T20:43:14.525912Z",
     "shell.execute_reply.started": "2024-07-07T20:43:14.521857Z"
    },
    "trusted": true
   },
   "outputs": [],
   "source": [
    "def clear_gpu_memory():\n",
    "    torch.cuda.empty_cache()\n",
    "    torch.cuda.ipc_collect() "
   ]
  },
  {
   "cell_type": "code",
   "execution_count": null,
   "metadata": {
    "execution": {
     "iopub.execute_input": "2024-07-07T20:42:06.527195Z",
     "iopub.status.busy": "2024-07-07T20:42:06.526319Z",
     "iopub.status.idle": "2024-07-07T20:42:06.532640Z",
     "shell.execute_reply": "2024-07-07T20:42:06.531693Z",
     "shell.execute_reply.started": "2024-07-07T20:42:06.527150Z"
    },
    "trusted": true
   },
   "outputs": [],
   "source": [
    "train_loss_list = list()\n",
    "val_loss_list = list()\n",
    "train_acc_list = list()\n",
    "val_acc_list = list()"
   ]
  },
  {
   "cell_type": "code",
   "execution_count": null,
   "metadata": {
    "execution": {
     "iopub.execute_input": "2024-07-07T21:19:08.452824Z",
     "iopub.status.busy": "2024-07-07T21:19:08.452397Z",
     "iopub.status.idle": "2024-07-07T21:19:08.459121Z",
     "shell.execute_reply": "2024-07-07T21:19:08.458043Z",
     "shell.execute_reply.started": "2024-07-07T21:19:08.452784Z"
    },
    "trusted": true
   },
   "outputs": [],
   "source": [
    "train_loss_list.append(train_loss.numpy())\n",
    "val_loss_list.append(val_loss.numpy())\n",
    "train_acc_list.append(train_acc.numpy())\n",
    "val_acc_list.append(val_acc.numpy())"
   ]
  },
  {
   "cell_type": "code",
   "execution_count": null,
   "metadata": {
    "execution": {
     "iopub.execute_input": "2024-07-07T21:42:49.702682Z",
     "iopub.status.busy": "2024-07-07T21:42:49.701894Z",
     "iopub.status.idle": "2024-07-07T21:42:51.734168Z",
     "shell.execute_reply": "2024-07-07T21:42:51.733127Z",
     "shell.execute_reply.started": "2024-07-07T21:42:49.702640Z"
    },
    "trusted": true
   },
   "outputs": [],
   "source": [
    "fig, axs = plt.subplots(2, 4, figsize=(25, 10))\n",
    "# title = ['NLLLoss + SGD', 'NLLLoss + Adam', 'CrossEntropyLoss + SGD', 'CrossEntropyLoss + Adam']\n",
    "title = ['resnet50', 'resnet50 pret', 'resnet101 pret', 'resnet101 pret']\n",
    "\n",
    "\n",
    "for i in range(1):\n",
    "    axs[0][i].plot(train_loss_list[i], label='train loss')\n",
    "    axs[0][i].plot(val_loss_list[i], label='val loss')\n",
    "    axs[0][i].set_title(f'{title[i]} Loss')\n",
    "    axs[0][i].legend(loc='best')\n",
    "    \n",
    "    axs[1][i].plot(train_acc_list[i], label='train acc')\n",
    "    axs[1][i].plot(val_acc_list[i], label='val acc')\n",
    "    axs[1][i].set_title(f'{title[i]} Accuracy')\n",
    "    axs[1][i].legend(loc='best')\n",
    "\n",
    "fig.suptitle('Comparison', fontsize=16)\n",
    "plt.tight_layout()\n",
    "plt.show()"
   ]
  },
  {
   "cell_type": "code",
   "execution_count": null,
   "metadata": {
    "execution": {
     "iopub.execute_input": "2024-07-07T21:22:59.947566Z",
     "iopub.status.busy": "2024-07-07T21:22:59.947185Z",
     "iopub.status.idle": "2024-07-07T21:22:59.952405Z",
     "shell.execute_reply": "2024-07-07T21:22:59.951490Z",
     "shell.execute_reply.started": "2024-07-07T21:22:59.947524Z"
    },
    "trusted": true
   },
   "outputs": [],
   "source": [
    "train_loss = train_loss.numpy()\n",
    "val_loss = val_loss.numpy()\n",
    "train_acc = train_acc.numpy()\n",
    "val_acc = val_acc.numpy()"
   ]
  },
  {
   "cell_type": "code",
   "execution_count": null,
   "metadata": {
    "execution": {
     "iopub.execute_input": "2024-07-07T21:23:02.000033Z",
     "iopub.status.busy": "2024-07-07T21:23:01.999671Z",
     "iopub.status.idle": "2024-07-07T21:23:02.248924Z",
     "shell.execute_reply": "2024-07-07T21:23:02.247998Z",
     "shell.execute_reply.started": "2024-07-07T21:23:02.000004Z"
    },
    "trusted": true
   },
   "outputs": [],
   "source": [
    "plt.plot(train_loss, label = 'train loss')\n",
    "plt.plot(val_loss, label = 'val loss')\n",
    "plt.legend(loc='best')\n",
    "plt.show()"
   ]
  },
  {
   "cell_type": "code",
   "execution_count": null,
   "metadata": {
    "execution": {
     "iopub.execute_input": "2024-07-07T21:23:04.557401Z",
     "iopub.status.busy": "2024-07-07T21:23:04.556725Z",
     "iopub.status.idle": "2024-07-07T21:23:04.797503Z",
     "shell.execute_reply": "2024-07-07T21:23:04.796586Z",
     "shell.execute_reply.started": "2024-07-07T21:23:04.557368Z"
    },
    "trusted": true
   },
   "outputs": [],
   "source": [
    "plt.plot(train_acc, label = 'train acc')\n",
    "plt.plot(val_acc, label = 'val acc')\n",
    "plt.legend(loc='best')\n",
    "plt.show()"
   ]
  },
  {
   "cell_type": "code",
   "execution_count": null,
   "metadata": {
    "execution": {
     "iopub.execute_input": "2024-07-07T21:23:12.884222Z",
     "iopub.status.busy": "2024-07-07T21:23:12.883536Z",
     "iopub.status.idle": "2024-07-07T21:23:15.360215Z",
     "shell.execute_reply": "2024-07-07T21:23:15.359212Z",
     "shell.execute_reply.started": "2024-07-07T21:23:12.884189Z"
    },
    "trusted": true
   },
   "outputs": [],
   "source": [
    "from sklearn.metrics import confusion_matrix, ConfusionMatrixDisplay\n",
    "def evaluate_model(model, dataloader):\n",
    "    model.eval()\n",
    "    all_preds = []\n",
    "    all_labels = []\n",
    "    with torch.no_grad():\n",
    "        for inputs, labels in tqdm(dataloader):\n",
    "            inputs = inputs.to(device)\n",
    "            labels = labels.to(device)\n",
    "            preds = model(inputs)\n",
    "            preds_class = preds.argmax(dim=1)\n",
    "            all_preds.extend(preds_class.cpu().numpy())\n",
    "            all_labels.extend(labels.cpu().numpy())\n",
    "\n",
    "    return all_labels, all_preds\n",
    "\n",
    "def plot_confusion_matrix(labels, preds, class_names):\n",
    "    cm = confusion_matrix(labels, preds)\n",
    "    disp = ConfusionMatrixDisplay(confusion_matrix=cm, display_labels=class_names)\n",
    "    disp.plot()\n",
    "    plt.show()\n",
    "\n",
    "all_labels, all_preds = evaluate_model(model, val_dataloader)\n",
    "plot_confusion_matrix(all_labels, all_preds, class_names)"
   ]
  },
  {
   "cell_type": "code",
   "execution_count": null,
   "metadata": {
    "execution": {
     "iopub.execute_input": "2024-07-07T21:36:05.470794Z",
     "iopub.status.busy": "2024-07-07T21:36:05.470324Z",
     "iopub.status.idle": "2024-07-07T21:36:05.517072Z",
     "shell.execute_reply": "2024-07-07T21:36:05.516183Z",
     "shell.execute_reply.started": "2024-07-07T21:36:05.470762Z"
    },
    "trusted": true
   },
   "outputs": [],
   "source": [
    "data_root = 'datasets/chest_xray/test'\n",
    "test_dir = 'datasets/pneumonia/test'\n",
    "shutil.copytree(data_root, test_dir)"
   ]
  },
  {
   "cell_type": "code",
   "execution_count": null,
   "metadata": {
    "execution": {
     "iopub.execute_input": "2024-07-07T21:36:11.508283Z",
     "iopub.status.busy": "2024-07-07T21:36:11.507613Z",
     "iopub.status.idle": "2024-07-07T21:36:11.515532Z",
     "shell.execute_reply": "2024-07-07T21:36:11.514595Z",
     "shell.execute_reply.started": "2024-07-07T21:36:11.508248Z"
    },
    "trusted": true
   },
   "outputs": [],
   "source": [
    "class ImageFolderWithPaths(torchvision.datasets.ImageFolder):\n",
    "    def __getitem__(self, index):\n",
    "        original_tuple = super(ImageFolderWithPaths, self).__getitem__(index)\n",
    "        path = self.imgs[index][0]\n",
    "        tuple_with_path = (original_tuple + (path,))\n",
    "        return tuple_with_path\n",
    "    \n",
    "test_data = 'datasets/pneumonia/test'\n",
    "test_dataset = ImageFolderWithPaths(test_data, val_transforms[0])\n",
    "\n",
    "test_dataloader = torch.utils.data.DataLoader(\n",
    "    test_dataset, batch_size=batch_size, shuffle=False, num_workers=0)"
   ]
  },
  {
   "cell_type": "code",
   "execution_count": null,
   "metadata": {
    "execution": {
     "iopub.execute_input": "2024-07-07T21:36:14.907874Z",
     "iopub.status.busy": "2024-07-07T21:36:14.907174Z",
     "iopub.status.idle": "2024-07-07T21:36:15.130421Z",
     "shell.execute_reply": "2024-07-07T21:36:15.129488Z",
     "shell.execute_reply.started": "2024-07-07T21:36:14.907841Z"
    },
    "trusted": true
   },
   "outputs": [],
   "source": [
    "def get_predictions(dataloader):\n",
    "    model.eval()\n",
    "    test_predictions = []\n",
    "    test_img_paths = []\n",
    "    for inputs, labels, paths in tqdm(dataloader):\n",
    "        inputs = inputs.to(device)\n",
    "        with torch.set_grad_enabled(False):\n",
    "            preds = model(inputs)\n",
    "        preds = torch.nn.functional.softmax(preds, dim=1).data.cpu().numpy()\n",
    "        test_predictions.append(preds)\n",
    "        test_img_paths.extend(paths)\n",
    "\n",
    "    test_predictions = np.concatenate(test_predictions)\n",
    "    return test_predictions, test_img_paths\n",
    "\n",
    "test_predictions, test_img_paths = get_predictions(test_dataloader)"
   ]
  },
  {
   "cell_type": "code",
   "execution_count": null,
   "metadata": {
    "execution": {
     "iopub.execute_input": "2024-07-07T21:38:26.656257Z",
     "iopub.status.busy": "2024-07-07T21:38:26.655456Z",
     "iopub.status.idle": "2024-07-07T21:38:28.653901Z",
     "shell.execute_reply": "2024-07-07T21:38:28.652927Z",
     "shell.execute_reply.started": "2024-07-07T21:38:26.656225Z"
    },
    "trusted": true
   },
   "outputs": [],
   "source": [
    "n_images = 1\n",
    "iter_obj = iter(test_dataloader)\n",
    "\n",
    "for _ in range(n_images):\n",
    "    inputs, labels, paths = next(iter_obj)\n",
    "    inputs = inputs.to(device)\n",
    "    with torch.set_grad_enabled(False):\n",
    "        preds = model(inputs)\n",
    "    for i, (img, pred) in enumerate(zip(inputs, preds)):\n",
    "        pred = torch.nn.functional.softmax(pred, dim=0).data.cpu().numpy()\n",
    "        img = img.cpu()\n",
    "        predicted_class = np.argmax(pred)\n",
    "        probability = pred[predicted_class]\n",
    "        \n",
    "        title = f'Class: {predicted_class}, Probability: {probability:.2f}, Path : {paths[i]}'\n",
    "        show_input(img, title=title)\n"
   ]
  },
  {
   "cell_type": "code",
   "execution_count": null,
   "metadata": {
    "execution": {
     "iopub.execute_input": "2024-07-07T21:39:32.204157Z",
     "iopub.status.busy": "2024-07-07T21:39:32.203335Z",
     "iopub.status.idle": "2024-07-07T21:39:32.525373Z",
     "shell.execute_reply": "2024-07-07T21:39:32.524449Z",
     "shell.execute_reply.started": "2024-07-07T21:39:32.204125Z"
    },
    "trusted": true
   },
   "outputs": [],
   "source": [
    "sns.histplot(test_predictions)"
   ]
  },
  {
   "cell_type": "code",
   "execution_count": null,
   "metadata": {
    "execution": {
     "iopub.execute_input": "2024-07-07T21:41:07.111044Z",
     "iopub.status.busy": "2024-07-07T21:41:07.110592Z",
     "iopub.status.idle": "2024-07-07T21:41:12.072099Z",
     "shell.execute_reply": "2024-07-07T21:41:12.070982Z",
     "shell.execute_reply.started": "2024-07-07T21:41:07.110997Z"
    },
    "trusted": true
   },
   "outputs": [],
   "source": [
    "n_images = 1\n",
    "iter_obj = iter(val_dataloader)\n",
    "\n",
    "# X_batch, y_batch = next(iter(train_dataloader))\n",
    "\n",
    "# for x_item, y_item in zip(X_batch, y_batch):\n",
    "#     show_input(x_item, title=class_names[y_item])\n",
    "\n",
    "dirty_probs = []\n",
    "clean_probs = []\n",
    "\n",
    "for _ in range(n_images):\n",
    "    X_batch, y_batch = next(iter(iter_obj))\n",
    "    X_batch = X_batch.to(device)\n",
    "    with torch.set_grad_enabled(False):\n",
    "        preds = model(X_batch)\n",
    "    for img, pred_label in zip(X_batch, zip(preds, y_batch)):\n",
    "            pred, label = pred_label\n",
    "            pred = torch.nn.functional.softmax(pred).data.cpu().numpy()\n",
    "            pred = pred[1]\n",
    "            img = img.cpu()\n",
    "            show_input(img, title=\"{} {}\".format(pred, label))"
   ]
  }
 ],
 "metadata": {
  "kaggle": {
   "accelerator": "nvidiaTeslaT4",
   "dataSources": [
    {
     "datasetId": 852810,
     "sourceId": 1454699,
     "sourceType": "datasetVersion"
    }
   ],
   "dockerImageVersionId": 30733,
   "isGpuEnabled": true,
   "isInternetEnabled": true,
   "language": "python",
   "sourceType": "notebook"
  },
  "kernelspec": {
   "display_name": "venv",
   "language": "python",
   "name": "python3"
  },
  "language_info": {
   "codemirror_mode": {
    "name": "ipython",
    "version": 3
   },
   "file_extension": ".py",
   "mimetype": "text/x-python",
   "name": "python",
   "nbconvert_exporter": "python",
   "pygments_lexer": "ipython3",
   "version": "3.9.6"
  }
 },
 "nbformat": 4,
 "nbformat_minor": 4
}
